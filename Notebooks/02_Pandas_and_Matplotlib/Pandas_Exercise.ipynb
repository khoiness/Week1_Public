{
  "nbformat": 4,
  "nbformat_minor": 0,
  "metadata": {
    "colab": {
      "name": "FullyUpdatedPandasProblemSets.ipynb",
      "provenance": [],
      "collapsed_sections": []
    },
    "kernelspec": {
      "display_name": "Python 3",
      "language": "python",
      "name": "python3"
    },
    "language_info": {
      "codemirror_mode": {
        "name": "ipython",
        "version": 3
      },
      "file_extension": ".py",
      "mimetype": "text/x-python",
      "name": "python",
      "nbconvert_exporter": "python",
      "pygments_lexer": "ipython3",
      "version": "3.7.3"
    }
  },
  "cells": [
    {
      "cell_type": "markdown",
      "metadata": {
        "colab_type": "text",
        "id": "bSU6eKZTdMXZ"
      },
      "source": [
        "# Pandas Problem Set"
      ]
    },
    {
      "cell_type": "code",
      "metadata": {
        "colab_type": "code",
        "id": "c5ewTg7vdQFm",
        "colab": {}
      },
      "source": [
        "import pandas as pd\n",
        "import numpy as np\n",
        "import matplotlib.pyplot as plt\n",
        "import statistics"
      ],
      "execution_count": 12,
      "outputs": []
    },
    {
      "cell_type": "code",
      "metadata": {
        "colab_type": "code",
        "id": "F4btIg8vdSyb",
        "colab": {}
      },
      "source": [
        "url = \"https://raw.githubusercontent.com/BeaverWorksMedlytics2020/Data_Public/master/NotebookExampleData/Week1/diabetes.csv\"\n",
        "names = ['preg', 'plas', 'pres', 'skin', 'test', 'mass', 'pedi', 'age', 'class']"
      ],
      "execution_count": 42,
      "outputs": []
    },
    {
      "cell_type": "markdown",
      "metadata": {
        "colab_type": "text",
        "id": "QOLgFaSKeShR"
      },
      "source": [
        "Read in csv above to a pandas dataframe"
      ]
    },
    {
      "cell_type": "code",
      "metadata": {
        "colab_type": "code",
        "id": "Okcb8dnXeX2C",
        "colab": {}
      },
      "source": [
        "data = pd.read_csv(url, names = names)"
      ],
      "execution_count": 16,
      "outputs": []
    },
    {
      "cell_type": "markdown",
      "metadata": {
        "colab_type": "text",
        "id": "d4DyOsuoewE2"
      },
      "source": [
        "Print out the age and class of the 100th patient"
      ]
    },
    {
      "cell_type": "code",
      "metadata": {
        "colab_type": "code",
        "id": "xZqBsg39eY8_",
        "colab": {
          "base_uri": "https://localhost:8080/",
          "height": 69
        },
        "outputId": "50b3c1b7-ecb9-45b1-8c18-38cfc0409c37"
      },
      "source": [
        "print(data.iloc[99,7:9])"
      ],
      "execution_count": 29,
      "outputs": [
        {
          "output_type": "stream",
          "text": [
            "age      31.0\n",
            "class     1.0\n",
            "Name: 99, dtype: float64\n"
          ],
          "name": "stdout"
        }
      ]
    },
    {
      "cell_type": "markdown",
      "metadata": {
        "colab_type": "text",
        "id": "j8L2EM-5iOWc"
      },
      "source": [
        "Write code to figure out how many people are classified as not having diabetes, class is 0"
      ]
    },
    {
      "cell_type": "code",
      "metadata": {
        "colab_type": "code",
        "id": "vohzS51WiWvD",
        "colab": {
          "base_uri": "https://localhost:8080/",
          "height": 35
        },
        "outputId": "bbc9b968-fcc3-4958-b816-5b4315f5b853"
      },
      "source": [
        "count = 0\n",
        "filtered = data[\"class\"] == 0\n",
        "for val in filtered:\n",
        "  if val == 0:\n",
        "    count+=1\n",
        "print(count)"
      ],
      "execution_count": 30,
      "outputs": [
        {
          "output_type": "stream",
          "text": [
            "268\n"
          ],
          "name": "stdout"
        }
      ]
    },
    {
      "cell_type": "markdown",
      "metadata": {
        "colab_type": "text",
        "id": "ieGRz4iiiX4E"
      },
      "source": [
        "Write code to figure out how many people are classified as having diabetes, class is 1"
      ]
    },
    {
      "cell_type": "code",
      "metadata": {
        "colab_type": "code",
        "id": "-jq2O-vriXRT",
        "colab": {
          "base_uri": "https://localhost:8080/",
          "height": 35
        },
        "outputId": "28228f27-c8e3-4bb2-9406-cbccad2094f6"
      },
      "source": [
        "print(data.shape[0]-count)"
      ],
      "execution_count": 36,
      "outputs": [
        {
          "output_type": "stream",
          "text": [
            "500\n"
          ],
          "name": "stdout"
        }
      ]
    },
    {
      "cell_type": "markdown",
      "metadata": {
        "colab_type": "text",
        "id": "oeFT7T9OnuSd"
      },
      "source": [
        "What percent of people have diabetes in the study"
      ]
    },
    {
      "cell_type": "code",
      "metadata": {
        "colab_type": "code",
        "id": "zGGHptFYnwq0",
        "colab": {
          "base_uri": "https://localhost:8080/",
          "height": 35
        },
        "outputId": "c4a96662-d376-4e18-e291-001e926606e6"
      },
      "source": [
        "print(100*(data.shape[0]-count)/data.shape[0])"
      ],
      "execution_count": 39,
      "outputs": [
        {
          "output_type": "stream",
          "text": [
            "65.10416666666667\n"
          ],
          "name": "stdout"
        }
      ]
    },
    {
      "cell_type": "markdown",
      "metadata": {
        "colab_type": "text",
        "id": "nbrjnRPafs0p"
      },
      "source": [
        "Print out the pressure and class (no other columns) for the first 5 people (hint: this was not shown in our tutorial google how to select multiple columns with loc)\n",
        "\n",
        "Being able to effectively google is a very important coding tool ¯\\\\\\_(ツ)_/¯"
      ]
    },
    {
      "cell_type": "code",
      "metadata": {
        "colab_type": "code",
        "id": "GiNCJ19KfHJQ",
        "colab": {
          "base_uri": "https://localhost:8080/",
          "height": 225
        },
        "outputId": "bc256ce2-d51d-40c7-d8d7-f3e89e6b66e5"
      },
      "source": [
        "print(data.head())\n",
        "print(data.iloc[0:5,[2,8]])"
      ],
      "execution_count": 59,
      "outputs": [
        {
          "output_type": "stream",
          "text": [
            "   preg  plas  pres  skin  test  mass   pedi  age  class\n",
            "0     6   148    72    35     0  33.6  0.627   50      1\n",
            "1     1    85    66    29     0  26.6  0.351   31      0\n",
            "2     8   183    64     0     0  23.3  0.672   32      1\n",
            "3     1    89    66    23    94  28.1  0.167   21      0\n",
            "4     0   137    40    35   168  43.1  2.288   33      1\n",
            "   pres  class\n",
            "0    72      1\n",
            "1    66      0\n",
            "2    64      1\n",
            "3    66      0\n",
            "4    40      1\n"
          ],
          "name": "stdout"
        }
      ]
    },
    {
      "cell_type": "markdown",
      "metadata": {
        "colab_type": "text",
        "id": "O-CcsoqlhxUn"
      },
      "source": [
        "Run the cell below, it will print out the correlation among the columns"
      ]
    },
    {
      "cell_type": "code",
      "metadata": {
        "colab_type": "code",
        "id": "pXpVFt6MffQt",
        "colab": {
          "base_uri": "https://localhost:8080/",
          "height": 325
        },
        "outputId": "81e16645-cdb7-4a5e-d9b2-f815bdce07b8"
      },
      "source": [
        "data.corr()"
      ],
      "execution_count": 60,
      "outputs": [
        {
          "output_type": "execute_result",
          "data": {
            "text/html": [
              "<div>\n",
              "<style scoped>\n",
              "    .dataframe tbody tr th:only-of-type {\n",
              "        vertical-align: middle;\n",
              "    }\n",
              "\n",
              "    .dataframe tbody tr th {\n",
              "        vertical-align: top;\n",
              "    }\n",
              "\n",
              "    .dataframe thead th {\n",
              "        text-align: right;\n",
              "    }\n",
              "</style>\n",
              "<table border=\"1\" class=\"dataframe\">\n",
              "  <thead>\n",
              "    <tr style=\"text-align: right;\">\n",
              "      <th></th>\n",
              "      <th>preg</th>\n",
              "      <th>plas</th>\n",
              "      <th>pres</th>\n",
              "      <th>skin</th>\n",
              "      <th>test</th>\n",
              "      <th>mass</th>\n",
              "      <th>pedi</th>\n",
              "      <th>age</th>\n",
              "      <th>class</th>\n",
              "    </tr>\n",
              "  </thead>\n",
              "  <tbody>\n",
              "    <tr>\n",
              "      <th>preg</th>\n",
              "      <td>1.000000</td>\n",
              "      <td>0.129459</td>\n",
              "      <td>0.141282</td>\n",
              "      <td>-0.081672</td>\n",
              "      <td>-0.073535</td>\n",
              "      <td>0.017683</td>\n",
              "      <td>-0.033523</td>\n",
              "      <td>0.544341</td>\n",
              "      <td>0.221898</td>\n",
              "    </tr>\n",
              "    <tr>\n",
              "      <th>plas</th>\n",
              "      <td>0.129459</td>\n",
              "      <td>1.000000</td>\n",
              "      <td>0.152590</td>\n",
              "      <td>0.057328</td>\n",
              "      <td>0.331357</td>\n",
              "      <td>0.221071</td>\n",
              "      <td>0.137337</td>\n",
              "      <td>0.263514</td>\n",
              "      <td>0.466581</td>\n",
              "    </tr>\n",
              "    <tr>\n",
              "      <th>pres</th>\n",
              "      <td>0.141282</td>\n",
              "      <td>0.152590</td>\n",
              "      <td>1.000000</td>\n",
              "      <td>0.207371</td>\n",
              "      <td>0.088933</td>\n",
              "      <td>0.281805</td>\n",
              "      <td>0.041265</td>\n",
              "      <td>0.239528</td>\n",
              "      <td>0.065068</td>\n",
              "    </tr>\n",
              "    <tr>\n",
              "      <th>skin</th>\n",
              "      <td>-0.081672</td>\n",
              "      <td>0.057328</td>\n",
              "      <td>0.207371</td>\n",
              "      <td>1.000000</td>\n",
              "      <td>0.436783</td>\n",
              "      <td>0.392573</td>\n",
              "      <td>0.183928</td>\n",
              "      <td>-0.113970</td>\n",
              "      <td>0.074752</td>\n",
              "    </tr>\n",
              "    <tr>\n",
              "      <th>test</th>\n",
              "      <td>-0.073535</td>\n",
              "      <td>0.331357</td>\n",
              "      <td>0.088933</td>\n",
              "      <td>0.436783</td>\n",
              "      <td>1.000000</td>\n",
              "      <td>0.197859</td>\n",
              "      <td>0.185071</td>\n",
              "      <td>-0.042163</td>\n",
              "      <td>0.130548</td>\n",
              "    </tr>\n",
              "    <tr>\n",
              "      <th>mass</th>\n",
              "      <td>0.017683</td>\n",
              "      <td>0.221071</td>\n",
              "      <td>0.281805</td>\n",
              "      <td>0.392573</td>\n",
              "      <td>0.197859</td>\n",
              "      <td>1.000000</td>\n",
              "      <td>0.140647</td>\n",
              "      <td>0.036242</td>\n",
              "      <td>0.292695</td>\n",
              "    </tr>\n",
              "    <tr>\n",
              "      <th>pedi</th>\n",
              "      <td>-0.033523</td>\n",
              "      <td>0.137337</td>\n",
              "      <td>0.041265</td>\n",
              "      <td>0.183928</td>\n",
              "      <td>0.185071</td>\n",
              "      <td>0.140647</td>\n",
              "      <td>1.000000</td>\n",
              "      <td>0.033561</td>\n",
              "      <td>0.173844</td>\n",
              "    </tr>\n",
              "    <tr>\n",
              "      <th>age</th>\n",
              "      <td>0.544341</td>\n",
              "      <td>0.263514</td>\n",
              "      <td>0.239528</td>\n",
              "      <td>-0.113970</td>\n",
              "      <td>-0.042163</td>\n",
              "      <td>0.036242</td>\n",
              "      <td>0.033561</td>\n",
              "      <td>1.000000</td>\n",
              "      <td>0.238356</td>\n",
              "    </tr>\n",
              "    <tr>\n",
              "      <th>class</th>\n",
              "      <td>0.221898</td>\n",
              "      <td>0.466581</td>\n",
              "      <td>0.065068</td>\n",
              "      <td>0.074752</td>\n",
              "      <td>0.130548</td>\n",
              "      <td>0.292695</td>\n",
              "      <td>0.173844</td>\n",
              "      <td>0.238356</td>\n",
              "      <td>1.000000</td>\n",
              "    </tr>\n",
              "  </tbody>\n",
              "</table>\n",
              "</div>"
            ],
            "text/plain": [
              "           preg      plas      pres  ...      pedi       age     class\n",
              "preg   1.000000  0.129459  0.141282  ... -0.033523  0.544341  0.221898\n",
              "plas   0.129459  1.000000  0.152590  ...  0.137337  0.263514  0.466581\n",
              "pres   0.141282  0.152590  1.000000  ...  0.041265  0.239528  0.065068\n",
              "skin  -0.081672  0.057328  0.207371  ...  0.183928 -0.113970  0.074752\n",
              "test  -0.073535  0.331357  0.088933  ...  0.185071 -0.042163  0.130548\n",
              "mass   0.017683  0.221071  0.281805  ...  0.140647  0.036242  0.292695\n",
              "pedi  -0.033523  0.137337  0.041265  ...  1.000000  0.033561  0.173844\n",
              "age    0.544341  0.263514  0.239528  ...  0.033561  1.000000  0.238356\n",
              "class  0.221898  0.466581  0.065068  ...  0.173844  0.238356  1.000000\n",
              "\n",
              "[9 rows x 9 columns]"
            ]
          },
          "metadata": {
            "tags": []
          },
          "execution_count": 60
        }
      ]
    },
    {
      "cell_type": "markdown",
      "metadata": {
        "colab_type": "text",
        "id": "P_7xRF11h4Uf"
      },
      "source": [
        "What column has the highest correlation with class? Find the mean() value of that column"
      ]
    },
    {
      "cell_type": "code",
      "metadata": {
        "colab_type": "code",
        "id": "clb2Gh8Mn9d4",
        "colab": {
          "base_uri": "https://localhost:8080/",
          "height": 243
        },
        "outputId": "b106b26e-39d8-44f3-ad12-ccc4c6b45768"
      },
      "source": [
        "import statistics\n",
        "me = statistics.mean(data.iloc[:,1])\n",
        "print(me)"
      ],
      "execution_count": 87,
      "outputs": [
        {
          "output_type": "stream",
          "text": [
            "0      148\n",
            "1       85\n",
            "2      183\n",
            "3       89\n",
            "4      137\n",
            "      ... \n",
            "763    101\n",
            "764    122\n",
            "765    121\n",
            "766    126\n",
            "767     93\n",
            "Name: plas, Length: 768, dtype: int64\n",
            "120.89453125\n"
          ],
          "name": "stdout"
        }
      ]
    },
    {
      "cell_type": "markdown",
      "metadata": {
        "colab_type": "text",
        "id": "64yWhAARoWw-"
      },
      "source": [
        "Create a new dataframe with only people that are above the mean found above"
      ]
    },
    {
      "cell_type": "code",
      "metadata": {
        "colab_type": "code",
        "id": "HRLjs3agkdPY",
        "colab": {
          "base_uri": "https://localhost:8080/",
          "height": 260
        },
        "outputId": "98cc775d-dea8-4de4-eedd-33959c6769a2"
      },
      "source": [
        "databool = data[\"plas\"] > me\n",
        "filteredata = data[databool]\n",
        "print(filteredata)\n"
      ],
      "execution_count": 88,
      "outputs": [
        {
          "output_type": "stream",
          "text": [
            "     preg  plas  pres  skin  test  mass   pedi  age  class\n",
            "0       6   148    72    35     0  33.6  0.627   50      1\n",
            "2       8   183    64     0     0  23.3  0.672   32      1\n",
            "4       0   137    40    35   168  43.1  2.288   33      1\n",
            "8       2   197    70    45   543  30.5  0.158   53      1\n",
            "9       8   125    96     0     0   0.0  0.232   54      1\n",
            "..    ...   ...   ...   ...   ...   ...    ...  ...    ...\n",
            "759     6   190    92     0     0  35.5  0.278   66      1\n",
            "761     9   170    74    31     0  44.0  0.403   43      1\n",
            "764     2   122    70    27     0  36.8  0.340   27      0\n",
            "765     5   121    72    23   112  26.2  0.245   30      0\n",
            "766     1   126    60     0     0  30.1  0.349   47      1\n",
            "\n",
            "[349 rows x 9 columns]\n"
          ],
          "name": "stdout"
        }
      ]
    },
    {
      "cell_type": "markdown",
      "metadata": {
        "colab_type": "text",
        "id": "RxGIQp0JrUnq"
      },
      "source": [
        "Create a new dataframe that only includes people who are above the average value for each column in the dataset (except 'class'). In other words, find the average value for each column, and then find which users have values above all of these average column values"
      ]
    },
    {
      "cell_type": "code",
      "metadata": {
        "colab_type": "code",
        "id": "Ylf4p6NNrfME",
        "colab": {
          "base_uri": "https://localhost:8080/",
          "height": 364
        },
        "outputId": "65f08778-b346-4736-81d9-c1b577369ca9"
      },
      "source": [
        "ex = data.mean(axis = 0)\n",
        "data2 = data[(data.iloc[:,0]>ex.iloc[0]) & (data.iloc[:,1]>ex.iloc[1]) & (data.iloc[:,2]>ex.iloc[2]) & (data.iloc[:,3]>ex.iloc[3]) & (data.iloc[:,4]>ex.iloc[4]) & (data.iloc[:,5]>ex.iloc[5]) & (data.iloc[:,6]>ex.iloc[6]) & (data.iloc[:,7]>ex.iloc[7])]\n",
        "print(data2)"
      ],
      "execution_count": 124,
      "outputs": [
        {
          "output_type": "stream",
          "text": [
            "     preg  plas  pres  skin  test  mass   pedi  age  class\n",
            "43      9   171   110    24   240  45.4  0.721   54      1\n",
            "152     9   156    86    28   155  34.3  1.189   42      1\n",
            "159    17   163    72    41   114  40.9  0.817   47      1\n",
            "175     8   179    72    42   130  32.7  0.719   36      1\n",
            "206     8   196    76    29   280  37.5  0.605   57      1\n",
            "215    12   151    70    40   271  41.8  0.742   38      1\n",
            "236     7   181    84    21   192  35.9  0.586   51      1\n",
            "259    11   155    76    28   150  33.3  1.353   51      1\n",
            "286     5   155    84    44   545  38.7  0.619   34      0\n",
            "375    12   140    82    43   325  39.2  0.528   58      1\n",
            "424     8   151    78    32   210  42.9  0.516   36      1\n",
            "458    10   148    84    48   237  37.6  1.001   51      1\n",
            "546     5   187    76    27   207  43.6  1.034   53      1\n",
            "594     6   123    72    45   230  33.6  0.733   34      0\n",
            "603     7   150    78    29   126  35.2  0.692   54      1\n",
            "612     7   168    88    42   321  38.2  0.787   40      1\n",
            "614    11   138    74    26   144  36.1  0.557   50      1\n",
            "663     9   145    80    46   130  37.9  0.637   40      1\n",
            "744    13   153    88    37   140  40.6  1.174   39      0\n"
          ],
          "name": "stdout"
        }
      ]
    },
    {
      "cell_type": "markdown",
      "metadata": {
        "colab_type": "text",
        "id": "24pCgP2xbCwZ"
      },
      "source": [
        "Ignoring the index (resetting the index to 0), sort the values based on \"skin\", \"test\", and \"pedi\" values in ascending order. Please write this in one line."
      ]
    },
    {
      "cell_type": "code",
      "metadata": {
        "colab_type": "code",
        "id": "wXZysbVwa7i5",
        "colab": {
          "base_uri": "https://localhost:8080/",
          "height": 260
        },
        "outputId": "3d37ad28-7e92-407d-85c8-57d01fcff97a"
      },
      "source": [
        "print(data.sort_values(by = [\"skin\", \"test\", \"pedi\"], ascending = True))"
      ],
      "execution_count": 125,
      "outputs": [
        {
          "output_type": "stream",
          "text": [
            "     preg  plas  pres  skin  test  mass   pedi  age  class\n",
            "268     0   102    52     0     0  25.1  0.078   21      0\n",
            "180     6    87    80     0     0  23.2  0.084   32      0\n",
            "598     1   173    74     0     0  36.8  0.088   38      1\n",
            "81      2    74     0     0     0   0.0  0.102   22      0\n",
            "430     2    99     0     0     0  22.2  0.108   23      0\n",
            "..    ...   ...   ...   ...   ...   ...    ...  ...    ...\n",
            "211     0   147    85    54     0  42.8  0.375   24      0\n",
            "120     0   162    76    56   100  53.2  0.759   25      1\n",
            "57      0   100    88    60   110  46.8  0.962   31      0\n",
            "445     0   180    78    63    14  59.4  2.420   25      1\n",
            "579     2   197    70    99     0  34.7  0.575   62      1\n",
            "\n",
            "[768 rows x 9 columns]\n"
          ],
          "name": "stdout"
        }
      ]
    },
    {
      "cell_type": "markdown",
      "metadata": {
        "colab_type": "text",
        "id": "hUs7viD6gSPT"
      },
      "source": [
        "Notice that there are some repeats in values (like in the age and the preg column). "
      ]
    },
    {
      "cell_type": "code",
      "metadata": {
        "colab_type": "code",
        "id": "Rf2qeUWlfbEO",
        "colab": {}
      },
      "source": [
        ""
      ],
      "execution_count": null,
      "outputs": []
    },
    {
      "cell_type": "markdown",
      "metadata": {
        "colab_type": "text",
        "id": "BIJkXsK4ch-u"
      },
      "source": [
        "Now Let's find the 4 largest values for \"age\" and \"mass\". Reference the pandas documentation (https://pandas.pydata.org/docs/) if you are stuck!"
      ]
    },
    {
      "cell_type": "code",
      "metadata": {
        "colab_type": "code",
        "id": "kSl28jLLdAF9",
        "colab": {
          "base_uri": "https://localhost:8080/",
          "height": 191
        },
        "outputId": "bf8ca842-a1ec-40f1-b6e3-0d7cfd671c3d"
      },
      "source": [
        "print(data[\"age\"].nlargest(n=4))\n",
        "print(data[\"mass\"].nlargest(n=4))"
      ],
      "execution_count": 128,
      "outputs": [
        {
          "output_type": "stream",
          "text": [
            "459    81\n",
            "453    72\n",
            "666    70\n",
            "123    69\n",
            "Name: age, dtype: int64\n",
            "177    67.1\n",
            "445    59.4\n",
            "673    57.3\n",
            "125    55.0\n",
            "Name: mass, dtype: float64\n"
          ],
          "name": "stdout"
        }
      ]
    },
    {
      "cell_type": "markdown",
      "metadata": {
        "colab_type": "text",
        "id": "fJRwe8UfqvNG"
      },
      "source": [
        "Now find the smallest 4 values for \"plas\" and \"preg\" in reverse order (largest to smallest). Please refer to the API documentation if you are stuck-- https://pandas.pydata.org/pandas-docs/stable/reference/index.html"
      ]
    },
    {
      "cell_type": "code",
      "metadata": {
        "colab_type": "code",
        "id": "icQcbPg1quNI",
        "colab": {
          "base_uri": "https://localhost:8080/",
          "height": 191
        },
        "outputId": "29a1bc42-7323-428a-d74e-1df255a3ec4b"
      },
      "source": [
        "print(data[\"plas\"].nsmallest(n=4).iloc[::-1])\n",
        "print(data[\"preg\"].nsmallest(n=4).iloc[::-1])"
      ],
      "execution_count": 130,
      "outputs": [
        {
          "output_type": "stream",
          "text": [
            "349    0\n",
            "342    0\n",
            "182    0\n",
            "75     0\n",
            "Name: plas, dtype: int64\n",
            "57    0\n",
            "45    0\n",
            "16    0\n",
            "4     0\n",
            "Name: preg, dtype: int64\n"
          ],
          "name": "stdout"
        }
      ]
    },
    {
      "cell_type": "code",
      "metadata": {
        "id": "O1mvfKSOQOic",
        "colab_type": "code",
        "colab": {}
      },
      "source": [
        ""
      ],
      "execution_count": null,
      "outputs": []
    }
  ]
}